{
  "nbformat": 4,
  "nbformat_minor": 0,
  "metadata": {
    "colab": {
      "name": "ocr_using_nanonets.ipynb",
      "provenance": []
    },
    "kernelspec": {
      "name": "python3",
      "display_name": "Python 3"
    }
  },
  "cells": [
    {
      "cell_type": "markdown",
      "metadata": {
        "id": "cF2sTSqwRAQ3",
        "colab_type": "text"
      },
      "source": [
        "# Creating the model"
      ]
    },
    {
      "cell_type": "code",
      "metadata": {
        "id": "FgfOCpLgIygc",
        "colab_type": "code",
        "colab": {
          "base_uri": "https://localhost:8080/",
          "height": 54
        },
        "outputId": "a6f6b7c7-2c81-41a8-de2a-67c4f31b69ad"
      },
      "source": [
        "import requests, os, json\n",
        "\n",
        "  \n",
        "url = \"https://app.nanonets.com/api/v2/ObjectDetection/Model/\"\n",
        "api_key = \"GO-dODr6ztfVeAftR5tBQ86YrDUhJvsj\"\n",
        "\n",
        "##\n",
        "payload = \"{\\\"categories\\\" : [\\\"number_plate\\\"], \\\"model_type\\\": \\\"ocr\\\"}\"\n",
        "headers = {'Content-Type': \"application/json\",}\n",
        "\n",
        "response = requests.request(\"POST\", url, headers=headers, auth=requests.auth.HTTPBasicAuth(api_key, ''), data=payload)\n",
        "model_id = json.loads(response.text)[\"model_id\"]\n",
        "\n",
        "print(response.text)"
      ],
      "execution_count": 1,
      "outputs": [
        {
          "output_type": "stream",
          "text": [
            "{\"model_id\":\"5964b108-d273-419b-a7e0-934278f0fbd2\",\"model_type\":\"ocr\",\"state\":0,\"status\":\"Model created\",\"accuracy\":0,\"categories\":[{\"name\":\"number_plate\",\"count\":0}],\"email\":\"\",\"is_public\":false}\n"
          ],
          "name": "stdout"
        }
      ]
    },
    {
      "cell_type": "markdown",
      "metadata": {
        "id": "dw9Cy0pLRYer",
        "colab_type": "text"
      },
      "source": [
        "# Checking the model status"
      ]
    },
    {
      "cell_type": "code",
      "metadata": {
        "id": "eKZjw6eoI7vO",
        "colab_type": "code",
        "colab": {
          "base_uri": "https://localhost:8080/",
          "height": 34
        },
        "outputId": "7a06d849-10f9-453a-b237-cd4ae5f462c9"
      },
      "source": [
        "url = \"https://app.nanonets.com/api/v2/ObjectDetection/Model/1bd47ff4-ef5c-4ca8-aded-714bf922e19e\"\n",
        "\n",
        "response = requests.request('GET', url, auth=requests.auth.HTTPBasicAuth(api_key,''))\n",
        "\n",
        "state = json.loads(response.text)[\"state\"]\n",
        "status = json.loads(response.text)[\"status\"]\n",
        "\n",
        "if state != 5:\n",
        "\tprint(\"The model isn't ready yet, it's status is:\", status)\n",
        "else:\n",
        "\tprint(\"NEXT RUN: python ./code/prediction.py ./images/151.jpg\")"
      ],
      "execution_count": 2,
      "outputs": [
        {
          "output_type": "stream",
          "text": [
            "The model isn't ready yet, it's status is: Model created\n"
          ],
          "name": "stdout"
        }
      ]
    }
  ]
}